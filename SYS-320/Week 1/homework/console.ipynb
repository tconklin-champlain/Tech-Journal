{
 "cells": [
  {
   "cell_type": "code",
   "execution_count": null,
   "id": "b07f1c7d-6e3d-4f99-b7aa-b715c995e18c",
   "metadata": {},
   "outputs": [],
   "source": [
    "import syslogSSH, syslogSU, syslogFTPConnection, syslogKlogind\n",
    "import importlib\n",
    "importlib.reload(syslogSSH)\n",
    "importlib.reload(syslogSU)\n",
    "importlib.reload(syslogFTPConnection)\n",
    "importlib.reload(syslogKlogind)"
   ]
  },
  {
   "cell_type": "markdown",
   "id": "d117fee1-b087-415d-943b-8649c9001c1c",
   "metadata": {
    "tags": []
   },
   "source": [
    "# Review system logs"
   ]
  },
  {
   "cell_type": "markdown",
   "id": "d017bf7d-6f2f-495c-aab8-b3089a8e85f4",
   "metadata": {
    "tags": []
   },
   "source": [
    "### SSH Authentication Failure domains"
   ]
  },
  {
   "cell_type": "code",
   "execution_count": null,
   "id": "79c391f1-064b-4b46-8f86-1dd1fec15fb8",
   "metadata": {},
   "outputs": [],
   "source": [
    "syslogSSH.ssh_fail('../../logs/Linux_2k.log',['sshd\\(pam_unix\\).*authentication failure.*'])"
   ]
  },
  {
   "cell_type": "markdown",
   "id": "2d107e44-2434-48e9-b93c-23e4435d36e4",
   "metadata": {
    "tags": []
   },
   "source": [
    "### SU Open"
   ]
  },
  {
   "cell_type": "code",
   "execution_count": null,
   "id": "4fdfac28-cee9-4e91-9c02-df19e92e5e2f",
   "metadata": {},
   "outputs": [],
   "source": [
    "syslogSU.su_open('../../logs/Linux_2k.log',['su\\(pam_unix\\).*session opened for user.*'])"
   ]
  },
  {
   "cell_type": "markdown",
   "id": "d37cfd70-0f07-4709-aaf6-0a728fdcffc2",
   "metadata": {
    "tags": []
   },
   "source": [
    "### FTP Connections"
   ]
  },
  {
   "cell_type": "code",
   "execution_count": null,
   "id": "ba3ca543-c86b-4b3d-a2dd-eb9d126fdef5",
   "metadata": {},
   "outputs": [],
   "source": [
    "syslogFTPConnection.ftp_connection('../../logs/Linux_2k.log',['ftpd.*connection from.*'])"
   ]
  },
  {
   "cell_type": "markdown",
   "id": "2bf72ec8-c72f-44a0-97ea-bdb1b4be2ca2",
   "metadata": {
    "tags": []
   },
   "source": [
    "### SSH Passed Authentication"
   ]
  },
  {
   "cell_type": "code",
   "execution_count": null,
   "id": "7af3ca89-e1c8-4d45-8e3d-33f1a55394ee",
   "metadata": {},
   "outputs": [],
   "source": [
    "syslogSSH.ssh_pass('../../logs/Linux_2k.log',['sshd\\(pam_unix\\).*session.*'])"
   ]
  },
  {
   "cell_type": "markdown",
   "id": "6c4ccb55-0145-450e-baa5-676f053ec01d",
   "metadata": {},
   "source": [
    "### Klogind failure"
   ]
  },
  {
   "cell_type": "code",
   "execution_count": null,
   "id": "c648738c-73e6-4d7a-906f-c81b09e69590",
   "metadata": {},
   "outputs": [],
   "source": [
    "syslogKlogind.klogind_fail('../../logs/Linux_2k.log',['klogind.*Authentication failed from.*'])"
   ]
  },
  {
   "cell_type": "markdown",
   "id": "4ce815b0-83e1-41d3-a5dc-d43201106b53",
   "metadata": {},
   "source": [
    "### What is your interpretation..."
   ]
  },
  {
   "cell_type": "markdown",
   "id": "ec6c10a0-3a17-4449-ab9e-aaf1450d5f6d",
   "metadata": {},
   "source": [
    "That this was a test account to see if ssh was working."
   ]
  },
  {
   "cell_type": "markdown",
   "id": "0e48d35c-e197-4891-abbb-2c6f10b56fd5",
   "metadata": {},
   "source": [
    "### What did you like the most and least about the lab?"
   ]
  },
  {
   "cell_type": "markdown",
   "id": "45ea8ee4-dc0b-41b1-aa31-0740bb68b3cb",
   "metadata": {},
   "source": [
    "I liked most learning about python and getting to learn this new programming IDE. Learning how modules worked makes me feel like I can really do alot with python and now more easily read github pages. The thing I least liked was the constant refreshing I had to do in the program to make it work. I hear not many people like Jupyter but I personally enjoy it's mix of markdown and code, with the notebooks. I do not have any additional questions."
   ]
  },
  {
   "cell_type": "code",
   "execution_count": null,
   "id": "8bd69bda-a260-438a-b6b8-52fb65abb70d",
   "metadata": {},
   "outputs": [],
   "source": []
  }
 ],
 "metadata": {
  "kernelspec": {
   "display_name": "Python 3.10.6 64-bit",
   "language": "python",
   "name": "python3"
  },
  "language_info": {
   "codemirror_mode": {
    "name": "ipython",
    "version": 3
   },
   "file_extension": ".py",
   "mimetype": "text/x-python",
   "name": "python",
   "nbconvert_exporter": "python",
   "pygments_lexer": "ipython3",
   "version": "3.10.6"
  },
  "vscode": {
   "interpreter": {
    "hash": "26de051ba29f2982a8de78e945f0abaf191376122a1563185a90213a26c5da77"
   }
  }
 },
 "nbformat": 4,
 "nbformat_minor": 5
}
