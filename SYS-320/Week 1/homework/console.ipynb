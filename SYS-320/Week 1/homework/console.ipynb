{
 "cells": [
  {
   "cell_type": "code",
   "execution_count": 7,
   "id": "b07f1c7d-6e3d-4f99-b7aa-b715c995e18c",
   "metadata": {},
   "outputs": [
    {
     "data": {
      "text/plain": [
       "<module 'syslogKlogind' from 'c:\\\\Users\\\\trisha.conklin\\\\Documents\\\\Tech Journal\\\\Tech-Journal\\\\SYS-320\\\\Week 1\\\\homework\\\\syslogKlogind.py'>"
      ]
     },
     "execution_count": 7,
     "metadata": {},
     "output_type": "execute_result"
    }
   ],
   "source": [
    "import syslogSSH, syslogSU, syslogFTPConnection, syslogKlogind\n",
    "import importlib\n",
    "importlib.reload(syslogSSH)\n",
    "importlib.reload(syslogSU)\n",
    "importlib.reload(syslogFTPConnection)\n",
    "importlib.reload(syslogKlogind)"
   ]
  },
  {
   "cell_type": "markdown",
   "id": "d117fee1-b087-415d-943b-8649c9001c1c",
   "metadata": {
    "tags": []
   },
   "source": [
    "# Review system logs"
   ]
  },
  {
   "cell_type": "markdown",
   "id": "d017bf7d-6f2f-495c-aab8-b3089a8e85f4",
   "metadata": {
    "tags": []
   },
   "source": [
    "### SSH Authentication Failure domains"
   ]
  },
  {
   "cell_type": "code",
   "execution_count": 8,
   "id": "79c391f1-064b-4b46-8f86-1dd1fec15fb8",
   "metadata": {},
   "outputs": [
    {
     "name": "stdout",
     "output_type": "stream",
     "text": [
      "rhost=65.166.159.14\n",
      "rhost=207.243.167.114\n",
      "rhost=60.30.224.116\n",
      "rhost=61-220-159-99.hinet-ip.hinet.net\n",
      "rhost=210.229.150.228\n",
      "rhost=61.53.154.93\n",
      "rhost=c9063558.virtua.com.br\n",
      "rhost=209.152.168.249\n",
      "rhost=217.60.212.66\n",
      "rhost=150.183.249.110\n",
      "rhost=85.44.47.166\n",
      "rhost=061092085098.ctinets.com\n",
      "rhost=211.115.206.155\n",
      "rhost=218.22.3.51\n",
      "rhost=211.214.161.141\n",
      "rhost=203.251.225.101\n",
      "rhost=adsl-70-242-75-179.dsl.ksc2mo.swbell.net\n",
      "rhost=218.188.2.4\n",
      "rhost=218.55.234.102\n",
      "rhost=193.110.106.11\n",
      "rhost=218.16.122.48\n",
      "rhost=ip-216-69-169-168.ip.secureserver.net\n",
      "rhost=troi.bluesky-technologies.com\n",
      "rhost=n219076184117.netvigator.com\n",
      "rhost=211.137.205.253\n",
      "rhost=202-132-40-29.adsl.ttn.net\n",
      "rhost=biblioteka.wsi.edu.pl\n",
      "rhost=210.76.59.29\n",
      "rhost=62-192-102-94.dsl.easynet.nl\n",
      "rhost=82.77.200.128\n",
      "rhost=212.0.132.20\n",
      "rhost=202.181.236.180\n",
      "rhost=211.46.224.253\n",
      "rhost=220-135-151-1.hinet-ip.hinet.net\n",
      "rhost=c51471f2c.cable.wanadoo.nl\n",
      "rhost=h64-187-1-131.gtconnect.net\n",
      "rhost=211.9.58.217\n",
      "rhost=195.129.24.210\n",
      "rhost=massive.merukuru.org\n",
      "rhost=220.117.241.87\n",
      "rhost=p15105218.pureserver.info\n",
      "rhost=d211-116-254-214.rev.krline.net\n",
      "rhost=zummit.com\n",
      "rhost=211-76-104-65.ebix.net.tw\n",
      "rhost=200.60.37.201\n",
      "rhost=csnsu.nsuok.edu\n",
      "rhost=68.143.156.89.nw.nuvox.net\n"
     ]
    }
   ],
   "source": [
    "syslogSSH.ssh_fail('../../logs/Linux_2k.log',['sshd\\(pam_unix\\).*authentication failure.*'])"
   ]
  },
  {
   "cell_type": "markdown",
   "id": "2d107e44-2434-48e9-b93c-23e4435d36e4",
   "metadata": {
    "tags": []
   },
   "source": [
    "### SU Open"
   ]
  },
  {
   "cell_type": "code",
   "execution_count": 9,
   "id": "4fdfac28-cee9-4e91-9c02-df19e92e5e2f",
   "metadata": {},
   "outputs": [
    {
     "name": "stdout",
     "output_type": "stream",
     "text": [
      "news\n",
      "cyrus\n"
     ]
    }
   ],
   "source": [
    "syslogSU.su_open('../../logs/Linux_2k.log',['su\\(pam_unix\\).*session opened for user.*'])"
   ]
  },
  {
   "cell_type": "markdown",
   "id": "d37cfd70-0f07-4709-aaf6-0a728fdcffc2",
   "metadata": {
    "tags": []
   },
   "source": [
    "### FTP Connections"
   ]
  },
  {
   "cell_type": "code",
   "execution_count": 10,
   "id": "ba3ca543-c86b-4b3d-a2dd-eb9d126fdef5",
   "metadata": {},
   "outputs": [
    {
     "name": "stdout",
     "output_type": "stream",
     "text": [
      "84.102.20.2\n",
      "210.245.165.136\n",
      "218.69.108.57\n",
      "222.33.90.199\n",
      "172.181.208.156\n",
      "203.101.45.59\n",
      "67.95.49.172\n",
      "63.197.98.106\n",
      "211.72.2.106\n",
      "210.118.170.95\n",
      "218.38.58.3\n",
      "24.54.76.216\n",
      "211.107.232.1\n",
      "82.68.222.194\n",
      "211.57.88.250\n",
      "62.99.164.82\n",
      "221.4.102.93\n",
      "217.187.83.50\n",
      "206.47.209.10\n",
      "206.196.21.129\n",
      "207.30.238.8\n",
      "212.65.68.82\n",
      "61.74.96.178\n",
      "210.223.97.117\n",
      "81.171.220.226\n",
      "211.72.151.162\n",
      "83.116.207.11\n",
      "220.94.205.45\n",
      "82.252.162.81\n",
      "211.167.68.59\n",
      "82.83.227.67\n",
      "211.42.188.206\n",
      "82.68.222.195\n",
      "208.62.55.75\n",
      "218.146.61.230\n",
      "202.82.200.188\n",
      "216.12.111.241\n",
      "217.187.83.139\n"
     ]
    }
   ],
   "source": [
    "syslogFTPConnection.ftp_connection('../../logs/Linux_2k.log',['ftpd.*connection from.*'])"
   ]
  },
  {
   "cell_type": "markdown",
   "id": "2bf72ec8-c72f-44a0-97ea-bdb1b4be2ca2",
   "metadata": {
    "tags": []
   },
   "source": [
    "### SSH Passed Authentication"
   ]
  },
  {
   "cell_type": "code",
   "execution_count": 11,
   "id": "7af3ca89-e1c8-4d45-8e3d-33f1a55394ee",
   "metadata": {},
   "outputs": [
    {
     "name": "stdout",
     "output_type": "stream",
     "text": [
      "test\n"
     ]
    }
   ],
   "source": [
    "syslogSSH.ssh_pass('../../logs/Linux_2k.log',['sshd\\(pam_unix\\).*session.*'])"
   ]
  },
  {
   "cell_type": "markdown",
   "id": "6c4ccb55-0145-450e-baa5-676f053ec01d",
   "metadata": {},
   "source": [
    "### Klogind failure"
   ]
  },
  {
   "cell_type": "code",
   "execution_count": 12,
   "id": "c648738c-73e6-4d7a-906f-c81b09e69590",
   "metadata": {},
   "outputs": [
    {
     "name": "stdout",
     "output_type": "stream",
     "text": [
      "163.27.187.39\n"
     ]
    }
   ],
   "source": [
    "syslogKlogind.klogind_fail('../../logs/Linux_2k.log',['klogind.*Authentication failed from.*'])"
   ]
  },
  {
   "cell_type": "markdown",
   "id": "4ce815b0-83e1-41d3-a5dc-d43201106b53",
   "metadata": {},
   "source": [
    "### What is your interpretation..."
   ]
  },
  {
   "cell_type": "markdown",
   "id": "ec6c10a0-3a17-4449-ab9e-aaf1450d5f6d",
   "metadata": {},
   "source": [
    "That this was a test account to see if ssh was working."
   ]
  },
  {
   "cell_type": "markdown",
   "id": "0e48d35c-e197-4891-abbb-2c6f10b56fd5",
   "metadata": {},
   "source": [
    "### What did you like the most and least about the lab?"
   ]
  },
  {
   "cell_type": "markdown",
   "id": "45ea8ee4-dc0b-41b1-aa31-0740bb68b3cb",
   "metadata": {},
   "source": [
    "I liked most learning about python and getting to learn this new programming IDE. Learning how modules worked makes me feel like I can really do alot with python and now more easily read github pages. The thing I least liked was the constant refreshing I had to do in the program to make it work. I hear not many people like Jupyter but I personally enjoy it's mix of markdown and code, with the notebooks. I do not have any additional questions."
   ]
  },
  {
   "cell_type": "code",
   "execution_count": null,
   "id": "8bd69bda-a260-438a-b6b8-52fb65abb70d",
   "metadata": {},
   "outputs": [],
   "source": []
  }
 ],
 "metadata": {
  "kernelspec": {
   "display_name": "Python 3.10.6 64-bit",
   "language": "python",
   "name": "python3"
  },
  "language_info": {
   "codemirror_mode": {
    "name": "ipython",
    "version": 3
   },
   "file_extension": ".py",
   "mimetype": "text/x-python",
   "name": "python",
   "nbconvert_exporter": "python",
   "pygments_lexer": "ipython3",
   "version": "3.10.6"
  },
  "vscode": {
   "interpreter": {
    "hash": "26de051ba29f2982a8de78e945f0abaf191376122a1563185a90213a26c5da77"
   }
  }
 },
 "nbformat": 4,
 "nbformat_minor": 5
}
