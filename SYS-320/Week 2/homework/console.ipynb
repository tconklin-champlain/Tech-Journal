{
 "cells": [
  {
   "cell_type": "code",
   "execution_count": 4,
   "id": "fb9a6d4e",
   "metadata": {},
   "outputs": [
    {
     "data": {
      "text/plain": [
       "<module 'apacheLog' from 'c:\\\\Users\\\\Tconk\\\\Documents\\\\Tech-Journal\\\\SYS-320\\\\Week 2\\\\homework\\\\apacheLog.py'>"
      ]
     },
     "execution_count": 4,
     "metadata": {},
     "output_type": "execute_result"
    }
   ],
   "source": [
    "import apacheLog\n",
    "import importlib\n",
    "importlib.reload(apacheLog)"
   ]
  },
  {
   "cell_type": "markdown",
   "metadata": {},
   "source": [
    "# Week 2"
   ]
  },
  {
   "cell_type": "code",
   "execution_count": 5,
   "metadata": {},
   "outputs": [
    {
     "name": "stdout",
     "output_type": "stream",
     "text": [
      "QQ.exe tcpconn3.tencent.com:443 149 bytes sent 121 bytes recieved \n",
      "QQ.exe tcpconn6.tencent.com:80 0 bytes sent 0 bytes recieved \n",
      "QQ.exe tcpconn.tencent.com:80 133 bytes sent 0 bytes recieved \n",
      "QQ.exe qqmail.tencent.com:80 336 bytes sent 2854 bytes recieved \n",
      "QQ.exe tcpconn3.tencent.com:80 0 bytes sent 0 bytes recieved \n",
      "QQ.exe tcpconn6.tencent.com:443 0 bytes sent 0 bytes recieved \n"
     ]
    }
   ],
   "source": [
    "apacheLog.yaml_pass('../../logs/Prox_2k.log','apache','task1')"
   ]
  },
  {
   "cell_type": "code",
   "execution_count": 6,
   "metadata": {},
   "outputs": [
    {
     "name": "stdout",
     "output_type": "stream",
     "text": [
      "QQ.exe tcpconn.tencent.com:80 open through proxy proxy.cse.cuhk.edu.hk:5070\n",
      "QQ.exe tcpconn6.tencent.com:80 open through proxy proxy.cse.cuhk.edu.hk:5070\n",
      "QQ.exe tcpconn3.tencent.com:443 open through proxy proxy.cse.cuhk.edu.hk:5070\n",
      "QQ.exe tcpconn6.tencent.com:443 open through proxy proxy.cse.cuhk.edu.hk:5070\n"
     ]
    }
   ],
   "source": [
    "apacheLog.yaml_pass2('../../logs/Prox_2k.log','apache','task2')"
   ]
  }
 ],
 "metadata": {
  "kernelspec": {
   "display_name": "Python 3.10.7 64-bit (microsoft store)",
   "language": "python",
   "name": "python3"
  },
  "language_info": {
   "codemirror_mode": {
    "name": "ipython",
    "version": 3
   },
   "file_extension": ".py",
   "mimetype": "text/x-python",
   "name": "python",
   "nbconvert_exporter": "python",
   "pygments_lexer": "ipython3",
   "version": "3.10.7"
  },
  "orig_nbformat": 4,
  "vscode": {
   "interpreter": {
    "hash": "aed30ba160a97b349a328a0d661c5f68e48b0390c03fbe0c80594ee49406fb32"
   }
  }
 },
 "nbformat": 4,
 "nbformat_minor": 2
}
