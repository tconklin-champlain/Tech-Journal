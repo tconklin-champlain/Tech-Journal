{
 "cells": [
  {
   "cell_type": "code",
   "execution_count": 23,
   "id": "fb9a6d4e",
   "metadata": {},
   "outputs": [
    {
     "data": {
      "text/plain": [
       "<module 'apacheLog' from 'd:\\\\Documents\\\\School\\\\Programming\\\\Tech-Journal\\\\SYS-320\\\\Week 2\\\\homework\\\\apacheLog.py'>"
      ]
     },
     "execution_count": 23,
     "metadata": {},
     "output_type": "execute_result"
    }
   ],
   "source": [
    "import apacheLog\n",
    "import importlib\n",
    "importlib.reload(apacheLog)"
   ]
  },
  {
   "cell_type": "markdown",
   "metadata": {},
   "source": [
    "# Week 2"
   ]
  },
  {
   "cell_type": "code",
   "execution_count": 24,
   "metadata": {},
   "outputs": [
    {
     "name": "stdout",
     "output_type": "stream",
     "text": [
      "QQ.exe cgi.qqweb.qq.com:80 477 bytes sent 448 bytes recieved \n",
      "QQ.exe tcpconn3.tencent.com:80 0 bytes sent 0 bytes recieved \n",
      "QQExternal.exe proxy.cse.cuhk.edu.hk:5070 1644 bytes sent KB) bytes recieved \n",
      "QQ.exe tcpconn6.tencent.com:80 0 bytes sent 0 bytes recieved \n",
      "QQProtectUpd.exe qdun-data.qq.com:443 261 bytes sent 70 bytes recieved \n",
      "QQ.exe 2052.flash2-http.qq.com:80 466 bytes sent 125682 bytes recieved \n",
      "QQ.exe showxml.qq.com:80 600 bytes sent 1716 bytes recieved \n",
      "QQ.exe qqmail.tencent.com:80 336 bytes sent 2854 bytes recieved \n",
      "QQ.exe tcpconn3.tencent.com:443 149 bytes sent 121 bytes recieved \n",
      "QQ.exe tcpconn6.tencent.com:443 0 bytes sent 0 bytes recieved \n",
      "QQ.exe tcpconn.tencent.com:80 133 bytes sent 0 bytes recieved \n"
     ]
    }
   ],
   "source": [
    "apacheLog.yaml_pass('../../logs/Proxifier_2k.log','apache','task1')"
   ]
  },
  {
   "cell_type": "code",
   "execution_count": 25,
   "metadata": {},
   "outputs": [
    {
     "name": "stdout",
     "output_type": "stream",
     "text": [
      "QQ.exe cgi.qqweb.qq.com:80 open proxy proxy.cse.cuhk.edu.hk:5070\n",
      "QQ.exe tcpconn.tencent.com:80 open proxy proxy.cse.cuhk.edu.hk:5070\n",
      "QQProtectUpd.exe qdun-data.qq.com:443 open proxy proxy.cse.cuhk.edu.hk:5070\n",
      "QQ.exe tcpconn6.tencent.com:80 open proxy proxy.cse.cuhk.edu.hk:5070\n",
      "QQ.exe tcpconn3.tencent.com:443 open proxy proxy.cse.cuhk.edu.hk:5070\n",
      "QQ.exe 183.60.49.182:443 open proxy proxy.cse.cuhk.edu.hk:5070\n",
      "QQPlayer.exe btrace.qq.com:80 open proxy proxy.cse.cuhk.edu.hk:5070\n",
      "QQ.exe tcpconn6.tencent.com:443 open proxy proxy.cse.cuhk.edu.hk:5070\n"
     ]
    }
   ],
   "source": [
    "apacheLog.yaml_pass2('../../logs/Proxifier_2k.log','apache','task2')"
   ]
  }
 ],
 "metadata": {
  "interpreter": {
   "hash": "333643563aeca2fe493b4a4ec0404a401afabce3a2dfbeabc26a7e83c0bba4b8"
  },
  "kernelspec": {
   "display_name": "Python 3.10.2 64-bit",
   "language": "python",
   "name": "python3"
  },
  "language_info": {
   "codemirror_mode": {
    "name": "ipython",
    "version": 3
   },
   "file_extension": ".py",
   "mimetype": "text/x-python",
   "name": "python",
   "nbconvert_exporter": "python",
   "pygments_lexer": "ipython3",
   "version": "3.10.2"
  },
  "orig_nbformat": 4
 },
 "nbformat": 4,
 "nbformat_minor": 2
}
