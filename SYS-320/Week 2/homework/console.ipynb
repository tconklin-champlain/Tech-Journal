{
 "cells": [
  {
   "cell_type": "code",
   "execution_count": 2,
   "id": "fb9a6d4e",
   "metadata": {},
   "outputs": [
    {
     "ename": "ModuleNotFoundError",
     "evalue": "No module named 'logCheck'",
     "output_type": "error",
     "traceback": [
      "\u001b[1;31m---------------------------------------------------------------------------\u001b[0m",
      "\u001b[1;31mModuleNotFoundError\u001b[0m                       Traceback (most recent call last)",
      "Input \u001b[1;32mIn [2]\u001b[0m, in \u001b[0;36m<module>\u001b[1;34m\u001b[0m\n\u001b[1;32m----> 1\u001b[0m \u001b[38;5;28;01mimport\u001b[39;00m \u001b[38;5;21;01mapacheLog\u001b[39;00m\n\u001b[0;32m      2\u001b[0m \u001b[38;5;28;01mimport\u001b[39;00m \u001b[38;5;21;01mimportlib\u001b[39;00m\n\u001b[0;32m      3\u001b[0m importlib\u001b[38;5;241m.\u001b[39mreload(apacheLog)\n",
      "File \u001b[1;32md:\\Documents\\School\\Programming\\Tech-Journal\\SYS-320\\Week 2\\homework\\apacheLog.py:1\u001b[0m, in \u001b[0;36m<module>\u001b[1;34m\u001b[0m\n\u001b[1;32m----> 1\u001b[0m \u001b[38;5;28;01mimport\u001b[39;00m \u001b[38;5;21;01mlogCheck\u001b[39;00m\n\u001b[0;32m      2\u001b[0m \u001b[38;5;28;01mimport\u001b[39;00m \u001b[38;5;21;01mimportlib\u001b[39;00m\n\u001b[0;32m      3\u001b[0m importlib\u001b[38;5;241m.\u001b[39mreload(logCheck)\n",
      "\u001b[1;31mModuleNotFoundError\u001b[0m: No module named 'logCheck'"
     ]
    }
   ],
   "source": [
    "import apacheLog\n",
    "import importlib\n",
    "importlib.reload(apacheLog)"
   ]
  },
  {
   "cell_type": "markdown",
   "metadata": {},
   "source": [
    "# Week 2"
   ]
  },
  {
   "cell_type": "code",
   "execution_count": null,
   "metadata": {},
   "outputs": [
    {
     "name": "stdout",
     "output_type": "stream",
     "text": [
      "QQ.exe tcpconn6.tencent.com:80 0 bytes sent 0 bytes recieved \n",
      "QQ.exe cgi.qqweb.qq.com:80 477 bytes sent 448 bytes recieved \n",
      "QQ.exe tcpconn.tencent.com:80 133 bytes sent 0 bytes recieved \n",
      "QQ.exe tcpconn3.tencent.com:80 0 bytes sent 0 bytes recieved \n",
      "QQExternal.exe proxy.cse.cuhk.edu.hk:5070 1644 bytes sent KB) bytes recieved \n",
      "QQProtectUpd.exe qdun-data.qq.com:443 261 bytes sent 70 bytes recieved \n",
      "QQ.exe 2052.flash2-http.qq.com:80 466 bytes sent 125682 bytes recieved \n",
      "QQ.exe showxml.qq.com:80 600 bytes sent 1716 bytes recieved \n",
      "QQ.exe tcpconn3.tencent.com:443 149 bytes sent 121 bytes recieved \n",
      "QQ.exe qqmail.tencent.com:80 336 bytes sent 2854 bytes recieved \n",
      "QQ.exe tcpconn6.tencent.com:443 0 bytes sent 0 bytes recieved \n"
     ]
    }
   ],
   "source": [
    "apacheLog.yaml_pass('../../logs/Proxifier_2k.log','apache','qq')"
   ]
  }
 ],
 "metadata": {
  "interpreter": {
   "hash": "333643563aeca2fe493b4a4ec0404a401afabce3a2dfbeabc26a7e83c0bba4b8"
  },
  "kernelspec": {
   "display_name": "Python 3.10.2 64-bit",
   "language": "python",
   "name": "python3"
  },
  "language_info": {
   "codemirror_mode": {
    "name": "ipython",
    "version": 3
   },
   "file_extension": ".py",
   "mimetype": "text/x-python",
   "name": "python",
   "nbconvert_exporter": "python",
   "pygments_lexer": "ipython3",
   "version": "3.10.2"
  },
  "orig_nbformat": 4
 },
 "nbformat": 4,
 "nbformat_minor": 2
}
