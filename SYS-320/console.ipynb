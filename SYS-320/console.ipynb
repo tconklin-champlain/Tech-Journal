{
 "cells": [
  {
   "cell_type": "code",
   "execution_count": 11,
   "id": "b07f1c7d-6e3d-4f99-b7aa-b715c995e18c",
   "metadata": {},
   "outputs": [
    {
     "data": {
      "text/plain": [
       "<module 'syslogFTPConnection' from 'C:\\\\Windows\\\\system32\\\\SYS-320\\\\Week01\\\\syslogFTPConnection.py'>"
      ]
     },
     "execution_count": 11,
     "metadata": {},
     "output_type": "execute_result"
    }
   ],
   "source": [
    "import syslogSSH, syslogSU, syslogFTPConnection\n",
    "import importlib\n",
    "importlib.reload(syslogSSH)\n",
    "importlib.reload(syslogSU)\n",
    "importlib.reload(syslogFTPConnection)"
   ]
  },
  {
   "cell_type": "markdown",
   "id": "d117fee1-b087-415d-943b-8649c9001c1c",
   "metadata": {},
   "source": [
    "# Review system logs"
   ]
  },
  {
   "cell_type": "markdown",
   "id": "d017bf7d-6f2f-495c-aab8-b3089a8e85f4",
   "metadata": {},
   "source": [
    "### SSH Authentication Failure domains"
   ]
  },
  {
   "cell_type": "code",
   "execution_count": 12,
   "id": "79c391f1-064b-4b46-8f86-1dd1fec15fb8",
   "metadata": {},
   "outputs": [
    {
     "name": "stdout",
     "output_type": "stream",
     "text": [
      "rhost=220-135-151-1.hinet-ip.hinet.net\n",
      "rhost=218.188.2.4\n"
     ]
    }
   ],
   "source": [
    "syslogSSH.ssh_fail('../logs/smallSyslog.log',['sshd\\(pam_unix\\).*authentication failure.*'])"
   ]
  },
  {
   "cell_type": "markdown",
   "id": "2d107e44-2434-48e9-b93c-23e4435d36e4",
   "metadata": {},
   "source": [
    "### SU Open"
   ]
  },
  {
   "cell_type": "code",
   "execution_count": 13,
   "id": "4fdfac28-cee9-4e91-9c02-df19e92e5e2f",
   "metadata": {},
   "outputs": [
    {
     "name": "stdout",
     "output_type": "stream",
     "text": [
      "news\n",
      "cyrus\n"
     ]
    }
   ],
   "source": [
    "syslogSU.su_open('../logs/smallSyslog.log',['su\\(pam_unix\\).*session opened for user.*'])"
   ]
  },
  {
   "cell_type": "markdown",
   "id": "d37cfd70-0f07-4709-aaf6-0a728fdcffc2",
   "metadata": {},
   "source": [
    "### FTP Connections"
   ]
  },
  {
   "cell_type": "code",
   "execution_count": 14,
   "id": "ba3ca543-c86b-4b3d-a2dd-eb9d126fdef5",
   "metadata": {},
   "outputs": [
    {
     "name": "stdout",
     "output_type": "stream",
     "text": [
      "No Results\n"
     ]
    },
    {
     "ename": "NameError",
     "evalue": "name 'sys' is not defined",
     "output_type": "error",
     "traceback": [
      "\u001b[1;31m---------------------------------------------------------------------------\u001b[0m",
      "\u001b[1;31mNameError\u001b[0m                                 Traceback (most recent call last)",
      "Input \u001b[1;32mIn [14]\u001b[0m, in \u001b[0;36m<module>\u001b[1;34m\u001b[0m\n\u001b[1;32m----> 1\u001b[0m \u001b[43msyslogFTPConnection\u001b[49m\u001b[38;5;241;43m.\u001b[39;49m\u001b[43mftp_connection\u001b[49m\u001b[43m(\u001b[49m\u001b[38;5;124;43m'\u001b[39;49m\u001b[38;5;124;43m../logs/smallSyslog.log\u001b[39;49m\u001b[38;5;124;43m'\u001b[39;49m\u001b[43m,\u001b[49m\u001b[43m[\u001b[49m\u001b[38;5;124;43m'\u001b[39;49m\u001b[38;5;124;43mftpd.*connection from.*\u001b[39;49m\u001b[38;5;124;43m'\u001b[39;49m\u001b[43m]\u001b[49m\u001b[43m)\u001b[49m\n",
      "File \u001b[1;32mC:\\Windows\\system32\\SYS-320\\Week01\\syslogFTPConnection.py:9\u001b[0m, in \u001b[0;36mftp_connection\u001b[1;34m(filename, searchTerms)\u001b[0m\n\u001b[0;32m      6\u001b[0m \u001b[38;5;28;01mdef\u001b[39;00m \u001b[38;5;21mftp_connection\u001b[39m(filename, searchTerms):\n\u001b[0;32m      7\u001b[0m     \n\u001b[0;32m      8\u001b[0m     \u001b[38;5;66;03m# Call syslogCheck and return the results\u001b[39;00m\n\u001b[1;32m----> 9\u001b[0m     is_found \u001b[38;5;241m=\u001b[39m \u001b[43msyslogCheck\u001b[49m\u001b[38;5;241;43m.\u001b[39;49m\u001b[43m_syslog\u001b[49m\u001b[43m(\u001b[49m\u001b[43mfilename\u001b[49m\u001b[43m,\u001b[49m\u001b[43m \u001b[49m\u001b[43msearchTerms\u001b[49m\u001b[43m)\u001b[49m\n\u001b[0;32m     11\u001b[0m     \u001b[38;5;66;03m# Found list\u001b[39;00m\n\u001b[0;32m     12\u001b[0m     found \u001b[38;5;241m=\u001b[39m []\n",
      "File \u001b[1;32mC:\\Windows\\system32\\SYS-320\\Week01\\syslogCheck.py:34\u001b[0m, in \u001b[0;36m_syslog\u001b[1;34m(filename, listOfKeywords)\u001b[0m\n\u001b[0;32m     32\u001b[0m \u001b[38;5;28;01mif\u001b[39;00m \u001b[38;5;28mlen\u001b[39m(results) \u001b[38;5;241m==\u001b[39m \u001b[38;5;241m0\u001b[39m:\n\u001b[0;32m     33\u001b[0m     \u001b[38;5;28mprint\u001b[39m(\u001b[38;5;124m\"\u001b[39m\u001b[38;5;124mNo Results\u001b[39m\u001b[38;5;124m\"\u001b[39m)\n\u001b[1;32m---> 34\u001b[0m     \u001b[43msys\u001b[49m\u001b[38;5;241m.\u001b[39mexit(\u001b[38;5;241m1\u001b[39m)\n\u001b[0;32m     36\u001b[0m \u001b[38;5;66;03m# Sort the list    \u001b[39;00m\n\u001b[0;32m     37\u001b[0m results \u001b[38;5;241m=\u001b[39m \u001b[38;5;28msorted\u001b[39m(results)\n",
      "\u001b[1;31mNameError\u001b[0m: name 'sys' is not defined"
     ]
    }
   ],
   "source": [
    "syslogFTPConnection.ftp_connection('../logs/smallSyslog.log',['ftpd.*connection from.*'])"
   ]
  },
  {
   "cell_type": "code",
   "execution_count": null,
   "id": "ba178ea8-e897-42d3-930f-b9cf413008ea",
   "metadata": {},
   "outputs": [],
   "source": []
  }
 ],
 "metadata": {
  "kernelspec": {
   "display_name": "Python 3 (ipykernel)",
   "language": "python",
   "name": "python3"
  },
  "language_info": {
   "codemirror_mode": {
    "name": "ipython",
    "version": 3
   },
   "file_extension": ".py",
   "mimetype": "text/x-python",
   "name": "python",
   "nbconvert_exporter": "python",
   "pygments_lexer": "ipython3",
   "version": "3.10.2"
  }
 },
 "nbformat": 4,
 "nbformat_minor": 5
}
